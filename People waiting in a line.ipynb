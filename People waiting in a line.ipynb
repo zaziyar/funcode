{
 "cells": [
  {
   "cell_type": "code",
   "execution_count": null,
   "id": "2109be1a",
   "metadata": {},
   "outputs": [],
   "source": [
    "import numpy as np\n",
    "\n",
    "array1=np.arange(1,1001,1) # 1000 people waiting in a line\n",
    "while len(array1)>1:\n",
    "    del_index=np.arange(1,len(array1),2) # Remove people in even places recursively\n",
    "    new=np.delete(array1,del_index)\n",
    "    array1=new\n",
    "    print(array1)"
   ]
  }
 ],
 "metadata": {
  "kernelspec": {
   "display_name": "Python 3 (ipykernel)",
   "language": "python",
   "name": "python3"
  },
  "language_info": {
   "codemirror_mode": {
    "name": "ipython",
    "version": 3
   },
   "file_extension": ".py",
   "mimetype": "text/x-python",
   "name": "python",
   "nbconvert_exporter": "python",
   "pygments_lexer": "ipython3",
   "version": "3.9.12"
  }
 },
 "nbformat": 4,
 "nbformat_minor": 5
}
